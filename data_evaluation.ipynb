{
 "cells": [
  {
   "cell_type": "code",
   "execution_count": 2,
   "metadata": {},
   "outputs": [
    {
     "name": "stderr",
     "output_type": "stream",
     "text": [
      "Using TensorFlow backend.\n"
     ]
    }
   ],
   "source": [
    "import numpy as np\n",
    "import pandas as pd\n",
    "import seaborn as sns\n",
    "import matplotlib.pyplot as plt\n",
    "from sklearn.model_selection import train_test_split\n",
    "from keras.models import Sequential,model_from_json\n",
    "from keras.layers import Dense, Dropout, LeakyReLU"
   ]
  },
  {
   "cell_type": "code",
   "execution_count": 116,
   "metadata": {},
   "outputs": [],
   "source": [
    "df = pd.read_csv('InvoicePayment-evaluation.csv')"
   ]
  },
  {
   "cell_type": "code",
   "execution_count": 117,
   "metadata": {},
   "outputs": [
    {
     "data": {
      "text/plain": [
       "Index(['PwC_RowID', 'BusinessTransaction', 'CompanyCode', 'CompanyName',\n",
       "       'DocumentNo', 'DocumentType', 'DocumentTypeDesc', 'EntryDate',\n",
       "       'EntryTime', 'InvoiceAmount', 'InvoiceDate', 'InvoiceDesc',\n",
       "       'InvoiceItemDesc', 'LocalCurrency', 'PaymentDate', 'PaymentDocumentNo',\n",
       "       'Period', 'PO_FLag', 'PO_PurchasingDocumentNumber', 'PostingDate',\n",
       "       'PurchasingDocumentDate', 'ReferenceDocumentNo', 'ReportingAmount',\n",
       "       'TransactionCode', 'TransactionCodeDesc', 'UserName', 'VendorName',\n",
       "       'VendorCountry', 'Year', 'PaymentDueDate'],\n",
       "      dtype='object')"
      ]
     },
     "execution_count": 117,
     "metadata": {},
     "output_type": "execute_result"
    }
   ],
   "source": [
    "df.columns"
   ]
  },
  {
   "cell_type": "code",
   "execution_count": 118,
   "metadata": {},
   "outputs": [],
   "source": [
    "df['PaymentDueDate'] = pd.to_datetime(df['PaymentDueDate'])\n",
    "df['PaymentDate'] = pd.to_datetime(df['PaymentDate'])\n"
   ]
  },
  {
   "cell_type": "code",
   "execution_count": 119,
   "metadata": {},
   "outputs": [],
   "source": [
    "df['EntryDate'] = pd.to_datetime(df['EntryDate'])\n",
    "df['InvoiceDate'] = pd.to_datetime(df['InvoiceDate'])"
   ]
  },
  {
   "cell_type": "code",
   "execution_count": 120,
   "metadata": {},
   "outputs": [],
   "source": [
    "df['PaymentDueDateDifferenceWithEntryDate'] = df['PaymentDueDate'] - df['EntryDate']\n",
    "df['PaymentDueDateDifferenceWithInvoiceDate'] = df['PaymentDueDate'] - df['InvoiceDate']"
   ]
  },
  {
   "cell_type": "code",
   "execution_count": 121,
   "metadata": {},
   "outputs": [],
   "source": [
    "df['PaymentDueDateDifferenceWithEntryDate'] = df['PaymentDueDateDifferenceWithEntryDate'].dt.days\n",
    "df['PaymentDueDateDifferenceWithInvoiceDate'] = df['PaymentDueDateDifferenceWithInvoiceDate'].dt.days"
   ]
  },
  {
   "cell_type": "code",
   "execution_count": 122,
   "metadata": {},
   "outputs": [],
   "source": [
    "df.loc[(df['PaymentDueDateDifferenceWithEntryDate'] < 0) & (df['PaymentDueDateDifferenceWithEntryDate'] > -30), \\\n",
    "       'PaymentDueDate'] = df['PaymentDueDate'] + pd.DateOffset(months=1)\n",
    "df.loc[(df['PaymentDueDateDifferenceWithEntryDate'] < -30) & (df['PaymentDueDateDifferenceWithEntryDate'] > -60), \\\n",
    "       'PaymentDueDate'] = df['PaymentDueDate'] + pd.DateOffset(months=2)\n",
    "df.loc[df['PaymentDueDateDifferenceWithEntryDate'] < -300, \\\n",
    "       'PaymentDueDate'] = df['PaymentDueDate'] + pd.DateOffset(years=1)\n"
   ]
  },
  {
   "cell_type": "code",
   "execution_count": 123,
   "metadata": {},
   "outputs": [],
   "source": [
    "df = df[df['PaymentDueDateDifferenceWithEntryDate'] > 0]"
   ]
  },
  {
   "cell_type": "code",
   "execution_count": 124,
   "metadata": {},
   "outputs": [],
   "source": [
    "df['PaymentDateDifferenceWithPaymentDueDate'] = df['PaymentDate'] - df['PaymentDueDate']"
   ]
  },
  {
   "cell_type": "code",
   "execution_count": 125,
   "metadata": {},
   "outputs": [],
   "source": [
    "df['PaymentDateDifferenceWithPaymentDueDate'] = df['PaymentDateDifferenceWithPaymentDueDate'].dt.days"
   ]
  },
  {
   "cell_type": "code",
   "execution_count": 126,
   "metadata": {},
   "outputs": [],
   "source": [
    "working_columns = ['BusinessTransaction', 'CompanyCode','DocumentType','InvoiceAmount', 'VendorName', 'UserName', \n",
    "                   'VendorCountry', 'PaymentDateDifferenceWithPaymentDueDate', 'PaymentDueDateDifferenceWithEntryDate', 'TransactionCode']"
   ]
  },
  {
   "cell_type": "code",
   "execution_count": 127,
   "metadata": {},
   "outputs": [],
   "source": [
    "df = df[working_columns]"
   ]
  },
  {
   "cell_type": "code",
   "execution_count": 128,
   "metadata": {},
   "outputs": [],
   "source": [
    "def one_hot_encode_and_merge(df_to_encode, column_name):\n",
    "    df_to_encode[column_name] = df_to_encode[column_name].str.lower()\n",
    "    one_hot_encode = pd.get_dummies(df_to_encode[column_name])\n",
    "    df_to_encode = df_to_encode.merge(one_hot_encode, left_index=True, right_index=True)\n",
    "    df_to_encode = df_to_encode.drop(columns=[column_name])\n",
    "    return df_to_encode"
   ]
  },
  {
   "cell_type": "code",
   "execution_count": 129,
   "metadata": {},
   "outputs": [],
   "source": [
    "columns_to_one_hot_encode = ['BusinessTransaction', 'VendorName', 'CompanyCode','DocumentType', 'TransactionCode', 'UserName', 'VendorCountry']"
   ]
  },
  {
   "cell_type": "code",
   "execution_count": 130,
   "metadata": {},
   "outputs": [],
   "source": [
    "for col in columns_to_one_hot_encode:\n",
    "    df = one_hot_encode_and_merge(df, col)"
   ]
  },
  {
   "cell_type": "code",
   "execution_count": 131,
   "metadata": {},
   "outputs": [],
   "source": [
    "df = df[df['InvoiceAmount'] > 0]\n",
    "df = df[df['InvoiceAmount'] < 10000]"
   ]
  },
  {
   "cell_type": "code",
   "execution_count": 132,
   "metadata": {},
   "outputs": [
    {
     "data": {
      "text/plain": [
       "<matplotlib.axes._subplots.AxesSubplot at 0x7f843d028128>"
      ]
     },
     "execution_count": 132,
     "metadata": {},
     "output_type": "execute_result"
    },
    {
     "data": {
      "image/png": "[encoded data removed]",
      "text/plain": [
       "<Figure size 432x288 with 1 Axes>"
      ]
     },
     "metadata": {
      "needs_background": "light"
     },
     "output_type": "display_data"
    }
   ],
   "source": [
    "sns.distplot(df['InvoiceAmount'])"
   ]
  },
  {
   "cell_type": "code",
   "execution_count": 133,
   "metadata": {},
   "outputs": [],
   "source": [
    "X = df.drop(columns=['PaymentDateDifferenceWithPaymentDueDate'])\n",
    "Y = df['PaymentDateDifferenceWithPaymentDueDate']"
   ]
  },
  {
   "cell_type": "code",
   "execution_count": 113,
   "metadata": {},
   "outputs": [],
   "source": []
  },
  {
   "cell_type": "code",
   "execution_count": null,
   "metadata": {},
   "outputs": [],
   "source": []
  },
  {
   "cell_type": "code",
   "execution_count": 46,
   "metadata": {},
   "outputs": [],
   "source": [
    "X_train, X_test, y_train, y_test = train_test_split(X, Y, test_size=0.2, random_state=1)\n",
    "X_train, X_val, y_train, y_val = train_test_split(X_train, y_train, test_size=0.2, random_state=1)"
   ]
  },
  {
   "cell_type": "code",
   "execution_count": null,
   "metadata": {},
   "outputs": [],
   "source": []
  },
  {
   "cell_type": "code",
   "execution_count": 47,
   "metadata": {},
   "outputs": [],
   "source": [
    "from keras.layers import Dense, Dropout, LeakyReLU\n",
    "from keras.regularizers import l1\n",
    "from keras.optimizers import Adam\n",
    "from keras.layers.normalization import BatchNormalization\n",
    "from keras.wrappers.scikit_learn import KerasRegressor"
   ]
  },
  {
   "cell_type": "code",
   "execution_count": 48,
   "metadata": {},
   "outputs": [],
   "source": [
    "def build_model():\n",
    "    adam = Adam(lr=0.0001)\n",
    "    model = Sequential()\n",
    "    model.add(Dense(8096,input_dim=X_train.shape[1],activation='relu'))\n",
    "    model.add(BatchNormalization())\n",
    "    model.add(Dense(4096,input_dim=X_train.shape[1],activation='relu'))\n",
    "    model.add(Dense(1024,input_dim=X_train.shape[1],activation='relu'))\n",
    "    model.add(Dense(50,input_dim=X_train.shape[1]))\n",
    "    model.add(Dense(1))\n",
    "    model.compile(optimizer= adam, loss='mse',metrics=['mae','mse'])\n",
    "    return model"
   ]
  },
  {
   "cell_type": "code",
   "execution_count": 49,
   "metadata": {},
   "outputs": [
    {
     "name": "stdout",
     "output_type": "stream",
     "text": [
      "WARNING:tensorflow:From /home/planto/.local/lib/python3.6/site-packages/tensorflow/python/framework/op_def_library.py:263: colocate_with (from tensorflow.python.framework.ops) is deprecated and will be removed in a future version.\n",
      "Instructions for updating:\n",
      "Colocations handled automatically by placer.\n",
      "_________________________________________________________________\n",
      "Layer (type)                 Output Shape              Param #   \n",
      "=================================================================\n",
      "dense_1 (Dense)              (None, 8096)              14378496  \n",
      "_________________________________________________________________\n",
      "batch_normalization_1 (Batch (None, 8096)              32384     \n",
      "_________________________________________________________________\n",
      "dense_2 (Dense)              (None, 4096)              33165312  \n",
      "_________________________________________________________________\n",
      "dense_3 (Dense)              (None, 1024)              4195328   \n",
      "_________________________________________________________________\n",
      "dense_4 (Dense)              (None, 50)                51250     \n",
      "_________________________________________________________________\n",
      "dense_5 (Dense)              (None, 1)                 51        \n",
      "=================================================================\n",
      "Total params: 51,822,821\n",
      "Trainable params: 51,806,629\n",
      "Non-trainable params: 16,192\n",
      "_________________________________________________________________\n"
     ]
    }
   ],
   "source": [
    "model = build_model()\n",
    "model.summary()"
   ]
  },
  {
   "cell_type": "code",
   "execution_count": 51,
   "metadata": {},
   "outputs": [
    {
     "name": "stdout",
     "output_type": "stream",
     "text": [
      "Train on 168001 samples, validate on 42001 samples\n",
      "Epoch 1/20\n",
      "168001/168001 [==============================] - 68s 406us/step - loss: 30.6401 - mean_absolute_error: 2.7158 - mean_squared_error: 30.6401 - val_loss: 78.6448 - val_mean_absolute_error: 5.1707 - val_mean_squared_error: 78.6448\n",
      "Epoch 2/20\n",
      "168001/168001 [==============================] - 68s 406us/step - loss: 23.9604 - mean_absolute_error: 2.1512 - mean_squared_error: 23.9604 - val_loss: 41.6394 - val_mean_absolute_error: 3.4886 - val_mean_squared_error: 41.6394\n",
      "Epoch 3/20\n",
      "168001/168001 [==============================] - 68s 406us/step - loss: 23.0067 - mean_absolute_error: 1.9757 - mean_squared_error: 23.0067 - val_loss: 27.9034 - val_mean_absolute_error: 2.4966 - val_mean_squared_error: 27.9034\n",
      "Epoch 4/20\n",
      "168001/168001 [==============================] - 68s 406us/step - loss: 21.5043 - mean_absolute_error: 1.9259 - mean_squared_error: 21.5043 - val_loss: 18.1963 - val_mean_absolute_error: 1.8120 - val_mean_squared_error: 18.1963\n",
      "Epoch 5/20\n",
      "168001/168001 [==============================] - 68s 405us/step - loss: 19.5151 - mean_absolute_error: 1.7121 - mean_squared_error: 19.5151 - val_loss: 35.2517 - val_mean_absolute_error: 2.3993 - val_mean_squared_error: 35.2517\n",
      "Epoch 6/20\n",
      "168001/168001 [==============================] - 68s 406us/step - loss: 19.3937 - mean_absolute_error: 1.6576 - mean_squared_error: 19.3937 - val_loss: 24.1115 - val_mean_absolute_error: 1.7308 - val_mean_squared_error: 24.1115\n",
      "Epoch 7/20\n",
      "168001/168001 [==============================] - 68s 406us/step - loss: 19.0760 - mean_absolute_error: 1.5970 - mean_squared_error: 19.0760 - val_loss: 25.3861 - val_mean_absolute_error: 1.6848 - val_mean_squared_error: 25.3861\n",
      "Epoch 8/20\n",
      "168001/168001 [==============================] - 68s 406us/step - loss: 18.4684 - mean_absolute_error: 1.5369 - mean_squared_error: 18.4684 - val_loss: 18.0797 - val_mean_absolute_error: 1.5555 - val_mean_squared_error: 18.0797\n",
      "Epoch 9/20\n",
      "168001/168001 [==============================] - 68s 406us/step - loss: 17.7188 - mean_absolute_error: 1.4858 - mean_squared_error: 17.7188 - val_loss: 35.1813 - val_mean_absolute_error: 1.4314 - val_mean_squared_error: 35.1813\n",
      "Epoch 10/20\n",
      "168001/168001 [==============================] - 68s 406us/step - loss: 17.1350 - mean_absolute_error: 1.4331 - mean_squared_error: 17.1350 - val_loss: 16.4650 - val_mean_absolute_error: 1.3796 - val_mean_squared_error: 16.4650\n",
      "Epoch 11/20\n",
      "168001/168001 [==============================] - 68s 405us/step - loss: 18.0808 - mean_absolute_error: 1.4355 - mean_squared_error: 18.0808 - val_loss: 18.9411 - val_mean_absolute_error: 1.5426 - val_mean_squared_error: 18.9411\n",
      "Epoch 12/20\n",
      "168001/168001 [==============================] - 68s 406us/step - loss: 16.5035 - mean_absolute_error: 1.3754 - mean_squared_error: 16.5035 - val_loss: 20.3910 - val_mean_absolute_error: 1.4184 - val_mean_squared_error: 20.3910\n",
      "Epoch 13/20\n",
      "168001/168001 [==============================] - 68s 407us/step - loss: 17.0884 - mean_absolute_error: 1.4036 - mean_squared_error: 17.0884 - val_loss: 21.3378 - val_mean_absolute_error: 1.8064 - val_mean_squared_error: 21.3378\n",
      "Epoch 14/20\n",
      "168001/168001 [==============================] - 68s 407us/step - loss: 16.3486 - mean_absolute_error: 1.3506 - mean_squared_error: 16.3486 - val_loss: 28.4085 - val_mean_absolute_error: 1.6649 - val_mean_squared_error: 28.4085\n",
      "Epoch 15/20\n",
      "168001/168001 [==============================] - 68s 406us/step - loss: 16.2138 - mean_absolute_error: 1.3488 - mean_squared_error: 16.2138 - val_loss: 17.1188 - val_mean_absolute_error: 1.2765 - val_mean_squared_error: 17.1188\n",
      "Epoch 16/20\n",
      "168001/168001 [==============================] - 68s 406us/step - loss: 17.0490 - mean_absolute_error: 1.3796 - mean_squared_error: 17.0490 - val_loss: 19.1682 - val_mean_absolute_error: 1.4414 - val_mean_squared_error: 19.1682\n",
      "Epoch 17/20\n",
      "168001/168001 [==============================] - 68s 406us/step - loss: 15.8763 - mean_absolute_error: 1.3148 - mean_squared_error: 15.8763 - val_loss: 16.7539 - val_mean_absolute_error: 1.3152 - val_mean_squared_error: 16.7539\n",
      "Epoch 18/20\n",
      "168001/168001 [==============================] - 68s 406us/step - loss: 15.1979 - mean_absolute_error: 1.2917 - mean_squared_error: 15.1979 - val_loss: 13.2837 - val_mean_absolute_error: 1.2728 - val_mean_squared_error: 13.2837\n",
      "Epoch 19/20\n",
      "168001/168001 [==============================] - 68s 406us/step - loss: 15.5332 - mean_absolute_error: 1.2809 - mean_squared_error: 15.5332 - val_loss: 16.9750 - val_mean_absolute_error: 1.3436 - val_mean_squared_error: 16.9750\n",
      "Epoch 20/20\n",
      "168001/168001 [==============================] - 68s 406us/step - loss: 15.2191 - mean_absolute_error: 1.2734 - mean_squared_error: 15.2191 - val_loss: 14.7554 - val_mean_absolute_error: 1.2435 - val_mean_squared_error: 14.7554\n"
     ]
    }
   ],
   "source": [
    "history = model.fit(X_train, y_train, validation_data=(X_val,y_val), epochs=20, batch_size=256)"
   ]
  },
  {
   "cell_type": "code",
   "execution_count": 52,
   "metadata": {},
   "outputs": [
    {
     "data": {
      "image/png": "[encoded data removed]",
      "text/plain": [
       "<Figure size 432x288 with 1 Axes>"
      ]
     },
     "metadata": {
      "needs_background": "light"
     },
     "output_type": "display_data"
    }
   ],
   "source": [
    "x_axis = history.history['loss'][1:]\n",
    "y_axis = history.history['val_loss'][1:]\n",
    "# plt.plot(x_axis)\n",
    "# plt.plot(y_axis)\n",
    "# plt.title('model error')\n",
    "# plt.ylabel('error')\n",
    "# plt.xlabel('epoch')\n",
    "# plt.legend(['train', 'test'], loc='upper left')\n",
    "# plt.show()\n",
    "\n",
    "plt.plot(x_axis)\n",
    "plt.plot(y_axis)\n",
    "plt.title('model loss')\n",
    "plt.ylabel('loss')\n",
    "plt.xlabel('epoch')\n",
    "plt.legend(['train', 'test'], loc='upper left')\n",
    "plt.show()"
   ]
  },
  {
   "cell_type": "code",
   "execution_count": 200,
   "metadata": {
    "scrolled": true
   },
   "outputs": [
    {
     "data": {
      "text/plain": [
       "<matplotlib.axes._subplots.AxesSubplot at 0x7f8800047cf8>"
      ]
     },
     "execution_count": 200,
     "metadata": {},
     "output_type": "execute_result"
    },
    {
     "data": {
      "image/png": "[encoded data removed]",
      "text/plain": [
       "<Figure size 792x648 with 2 Axes>"
      ]
     },
     "metadata": {
      "needs_background": "light"
     },
     "output_type": "display_data"
    }
   ],
   "source": [
    "corr = X.corr()\n",
    "\n",
    "mask = np.zeros_like(corr, dtype=np.bool)\n",
    "mask[np.triu_indices_from(mask)] = True\n",
    "\n",
    "f, ax = plt.subplots(figsize=(11, 9))\n",
    "\n",
    "cmap = sns.diverging_palette(220, 10, as_cmap=True)\n",
    "\n",
    "sns.heatmap(corr, mask=mask, cmap=cmap, vmax=.3, center=0,\n",
    "            square=True, linewidths=.5, cbar_kws={\"shrink\": .5})"
   ]
  },
  {
   "cell_type": "code",
   "execution_count": 164,
   "metadata": {},
   "outputs": [],
   "source": [
    "predicted = model.predict(X_test)\n",
    "final = []\n",
    "for predict in predicted:\n",
    "    final.append(round(predict[0]))"
   ]
  },
  {
   "cell_type": "code",
   "execution_count": null,
   "metadata": {},
   "outputs": [],
   "source": [
    "np.mean(abs(final - y_test))"
   ]
  }
 ],
 "metadata": {
  "kernelspec": {
   "display_name": "Python 3",
   "language": "python",
   "name": "python3"
  },
  "language_info": {
   "codemirror_mode": {
    "name": "ipython",
    "version": 3
   },
   "file_extension": ".py",
   "mimetype": "text/x-python",
   "name": "python",
   "nbconvert_exporter": "python",
   "pygments_lexer": "ipython3",
   "version": "3.7.1"
  }
 },
 "nbformat": 4,
 "nbformat_minor": 2
}
